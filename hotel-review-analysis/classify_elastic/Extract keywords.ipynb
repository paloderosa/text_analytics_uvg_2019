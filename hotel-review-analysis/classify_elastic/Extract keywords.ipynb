{
 "cells": [
  {
   "cell_type": "code",
   "execution_count": 1,
   "metadata": {
    "collapsed": true
   },
   "outputs": [],
   "source": [
    "from elasticsearch import Elasticsearch\n",
    "es = Elasticsearch(['http://localhost:9200'])"
   ]
  },
  {
   "cell_type": "markdown",
   "metadata": {},
   "source": [
    "Use Elasticsearch to iterate over the reviews and find some opinion units that correspond to the city, topic, and sentiment"
   ]
  },
  {
   "cell_type": "code",
   "execution_count": 10,
   "metadata": {
    "collapsed": true
   },
   "outputs": [],
   "source": [
    "sample_size = 1000\n",
    "found = 0\n",
    "topic = \"Cleanliness\"\n",
    "sentiment = \"Bad\"\n",
    "city = \"New York\"\n",
    "opinion_units = es.search(index=\"index_hotels\", \n",
    "                          scroll=\"1m\", \n",
    "                          size=1000, \n",
    "                          doc_type=\"opinion_unit\", \n",
    "                          body={\"query\":{\"match_all\":{}}}\n",
    "                         )\n",
    "\n",
    "scroll_id = opinion_units[\"_scroll_id\"]\n",
    "hits = opinion_units[\"hits\"][\"hits\"]\n",
    "rows = []\n",
    "while found < sample_size:\n",
    "    for item in hits:\n",
    "        if topic in item[\"_source\"][\"topic\"] and sentiment in item[\"_source\"][\"sentiment\"]:\n",
    "            review = es.get(index=\"index_hotels\", doc_type=\"review\", id=item[\"_parent\"])\n",
    "            if city in review[\"_source\"][\"city\"]:\n",
    "                rows.append(item[\"_source\"][\"content\"])\n",
    "                found += 1\n",
    "                if found == sample_size:\n",
    "                    break\n",
    "    hits = es.scroll(scroll_id=scroll_id, scroll=\"1m\")[\"hits\"][\"hits\"]"
   ]
  },
  {
   "cell_type": "markdown",
   "metadata": {},
   "source": [
    "Combine the contents into a single text"
   ]
  },
  {
   "cell_type": "code",
   "execution_count": 11,
   "metadata": {
    "collapsed": true
   },
   "outputs": [],
   "source": [
    "text = \"\\n\".join(rows)"
   ]
  },
  {
   "cell_type": "markdown",
   "metadata": {},
   "source": [
    "Extract keywords"
   ]
  },
  {
   "cell_type": "code",
   "execution_count": 12,
   "metadata": {
    "collapsed": false
   },
   "outputs": [],
   "source": [
    "from monkeylearn import MonkeyLearn\n",
    "\n",
    "ml = MonkeyLearn('<your api key here>')\n",
    "text_list = [text]\n",
    "module_id = 'ex_y7BPYzNG'\n",
    "res = ml.extractors.extract(module_id, text_list)"
   ]
  },
  {
   "cell_type": "markdown",
   "metadata": {},
   "source": [
    "Print the results!"
   ]
  },
  {
   "cell_type": "code",
   "execution_count": 13,
   "metadata": {
    "collapsed": false
   },
   "outputs": [
    {
     "name": "stdout",
     "output_type": "stream",
     "text": [
      "room 0.999\n",
      "bathroom 0.790\n",
      "carpet 0.407\n",
      "towels 0.311\n",
      "bed bugs 0.246\n",
      "bed 0.232\n",
      "hotel 0.196\n",
      "shower 0.155\n",
      "shared bathroom 0.150\n",
      "walls 0.138\n"
     ]
    }
   ],
   "source": [
    "for d in res.result[0]:\n",
    "    print d[\"keyword\"], d[\"relevance\"]"
   ]
  },
  {
   "cell_type": "code",
   "execution_count": null,
   "metadata": {
    "collapsed": true
   },
   "outputs": [],
   "source": []
  }
 ],
 "metadata": {
  "kernelspec": {
   "display_name": "Python 2",
   "language": "python",
   "name": "python2"
  },
  "language_info": {
   "codemirror_mode": {
    "name": "ipython",
    "version": 2
   },
   "file_extension": ".py",
   "mimetype": "text/x-python",
   "name": "python",
   "nbconvert_exporter": "python",
   "pygments_lexer": "ipython2",
   "version": "2.7.6"
  }
 },
 "nbformat": 4,
 "nbformat_minor": 0
}

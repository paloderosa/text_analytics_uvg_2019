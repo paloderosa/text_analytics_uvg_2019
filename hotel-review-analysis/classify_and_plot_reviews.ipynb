{
 "cells": [
  {
   "cell_type": "markdown",
   "metadata": {},
   "source": [
    "<h3>Take the file and separate all the reviews into opinion units</h3>"
   ]
  },
  {
   "cell_type": "code",
   "execution_count": null,
   "metadata": {
    "collapsed": false
   },
   "outputs": [],
   "source": [
    "from opinionTokenizer import tokenize_into_opinion_units"
   ]
  },
  {
   "cell_type": "code",
   "execution_count": null,
   "metadata": {
    "collapsed": false
   },
   "outputs": [],
   "source": [
    "import unicodecsv as csv\n",
    "filename = #the name of your csv here\n",
    "f = open(filename)\n",
    "#divide the data into opinion units:\n",
    "content = [tokenize_into_opinion_units(row[1]) for row in csv.reader(f)]\n",
    "f.seek(0)\n",
    "content.extend([tokenize_into_opinion_units(row[4]) for row in csv.reader(f)])"
   ]
  },
  {
   "cell_type": "code",
   "execution_count": null,
   "metadata": {
    "collapsed": true
   },
   "outputs": [],
   "source": [
    "opinion_units = []\n",
    "for row in content:\n",
    "    for elem in row:\n",
    "        opinion_units.append(elem)"
   ]
  },
  {
   "cell_type": "markdown",
   "metadata": {},
   "source": [
    "<h3>Get the sentiment for each opinion unit</h3>"
   ]
  },
  {
   "cell_type": "code",
   "execution_count": null,
   "metadata": {
    "collapsed": false
   },
   "outputs": [],
   "source": [
    "from monkeylearn import MonkeyLearn"
   ]
  },
  {
   "cell_type": "code",
   "execution_count": null,
   "metadata": {
    "collapsed": false
   },
   "outputs": [],
   "source": [
    "api_key = #your api key here\n",
    "ml = MonkeyLearn(api_key)\n",
    "module_id = 'cl_rZ2P7hbs'\n",
    "res_sentiment = ml.classifiers.classify(module_id, opinion_units, sandbox=False)"
   ]
  },
  {
   "cell_type": "markdown",
   "metadata": {},
   "source": [
    "Check out the results"
   ]
  },
  {
   "cell_type": "code",
   "execution_count": null,
   "metadata": {
    "collapsed": false
   },
   "outputs": [],
   "source": [
    "res_sentiment.result"
   ]
  },
  {
   "cell_type": "markdown",
   "metadata": {},
   "source": [
    "<h3>Get the topic for each opinion unit</h3>"
   ]
  },
  {
   "cell_type": "code",
   "execution_count": null,
   "metadata": {
    "collapsed": false
   },
   "outputs": [],
   "source": [
    "module_id = 'cl_TKb7XmdG'\n",
    "res_topic = ml.classifiers.classify(module_id, opinion_units, sandbox=False)"
   ]
  },
  {
   "cell_type": "code",
   "execution_count": null,
   "metadata": {
    "collapsed": false
   },
   "outputs": [],
   "source": [
    "res_topic.result"
   ]
  },
  {
   "cell_type": "markdown",
   "metadata": {},
   "source": [
    "<h3>Process the results</h3>"
   ]
  },
  {
   "cell_type": "markdown",
   "metadata": {},
   "source": [
    "Define a dict for storing the results.\n",
    "For each entry in the dict, the first element is the number of good reviews, and the second is the number of bad ones."
   ]
  },
  {
   "cell_type": "code",
   "execution_count": null,
   "metadata": {
    "collapsed": true
   },
   "outputs": [],
   "source": [
    "results = {\n",
    "        \"Cleanliness\":[0,0],\n",
    "        \"Comfort & Facilities\":[0,0],\n",
    "        \"Food\":[0,0],\n",
    "        \"Internet\":[0,0],\n",
    "        \"Location\":[0,0],\n",
    "        \"Staff\":[0,0],\n",
    "        \"Value for money\":[0,0]\n",
    "          }"
   ]
  },
  {
   "cell_type": "markdown",
   "metadata": {},
   "source": [
    "Then, combine the classified data into the dict:"
   ]
  },
  {
   "cell_type": "code",
   "execution_count": null,
   "metadata": {
    "collapsed": false
   },
   "outputs": [],
   "source": [
    "for i in range(len(opinion_units)):\n",
    "    for topic_dict in res_topic.result[i]:\n",
    "        if res_sentiment.result[i][0]['label'] == 'Good':\n",
    "            results[topic_dict[0]['label']][0] += 1\n",
    "        else:\n",
    "            results[topic_dict[0]['label']][1] += 1\n",
    "    "
   ]
  },
  {
   "cell_type": "markdown",
   "metadata": {},
   "source": [
    "Print the final results:"
   ]
  },
  {
   "cell_type": "code",
   "execution_count": null,
   "metadata": {
    "collapsed": false
   },
   "outputs": [],
   "source": [
    "results"
   ]
  },
  {
   "cell_type": "markdown",
   "metadata": {},
   "source": [
    "Plot the final results using plotly:"
   ]
  },
  {
   "cell_type": "code",
   "execution_count": null,
   "metadata": {
    "collapsed": false
   },
   "outputs": [],
   "source": [
    "import plotly\n",
    "from plotly.graph_objs import Bar, Layout\n",
    "trace1 = Bar(\n",
    "    x=['Cleanliness', 'Comfort & Facilities', 'Food', 'Internet', 'Location', 'Staff', 'Value for money'],\n",
    "    y=[results['Cleanliness'][0], results['Comfort & Facilities'][0],results['Food'][0],results['Internet'][0],results['Location'][0],results['Staff'][0],results['Value for money'][0]],\n",
    "    name='Positive',\n",
    "    marker=dict(\n",
    "        color = 'rgb(64,219,59)'\n",
    "    )\n",
    ")\n",
    "trace2 = Bar(\n",
    "    x=['Cleanliness', 'Comfort & Facilities', 'Food', 'Internet', 'Location', 'Staff', 'Value for money'],\n",
    "    y=[results['Cleanliness'][1], results['Comfort & Facilities'][1],results['Food'][1],results['Internet'][1],results['Location'][1],results['Staff'][1],results['Value for money'][1]],\n",
    "    name='Negative',\n",
    "    marker=dict(\n",
    "        color = 'rgb(235,54,72)'\n",
    "    )\n",
    ")\n",
    "\n",
    "plotly.offline.plot({\n",
    "\"data\": [\n",
    "            trace1, trace2\n",
    "],\n",
    "\"layout\": Layout(\n",
    "    title=\"Reviews by topic\",\n",
    "    barmode=\"group\"\n",
    ")\n",
    "})"
   ]
  },
  {
   "cell_type": "code",
   "execution_count": null,
   "metadata": {
    "collapsed": true
   },
   "outputs": [],
   "source": []
  }
 ],
 "metadata": {
  "kernelspec": {
   "display_name": "Python 2",
   "language": "python",
   "name": "python2"
  },
  "language_info": {
   "codemirror_mode": {
    "name": "ipython",
    "version": 2
   },
   "file_extension": ".py",
   "mimetype": "text/x-python",
   "name": "python",
   "nbconvert_exporter": "python",
   "pygments_lexer": "ipython2",
   "version": "2.7.6"
  }
 },
 "nbformat": 4,
 "nbformat_minor": 0
}

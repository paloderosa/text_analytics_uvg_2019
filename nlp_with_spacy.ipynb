{
 "cells": [
  {
   "cell_type": "code",
   "execution_count": 27,
   "metadata": {},
   "outputs": [],
   "source": [
    "import spacy\n",
    "from spacy import displacy\n",
    "from collections import Counter\n",
    "import jsonlines"
   ]
  },
  {
   "cell_type": "code",
   "execution_count": 3,
   "metadata": {},
   "outputs": [],
   "source": [
    "nlp = spacy.load('es')"
   ]
  },
  {
   "cell_type": "markdown",
   "metadata": {},
   "source": [
    "Cuando instalamos `spacy`, no se instalan automáticamente modelos de lenguaje. Necesitamos instalarnos nosotros."
   ]
  },
  {
   "cell_type": "code",
   "execution_count": 4,
   "metadata": {},
   "outputs": [],
   "source": [
    "text = \"\"\"\n",
    "    En retrospectiva, pocos dudan ahora que la burbuja inmobiliaria\n",
    "\"\"\"\n",
    "doc = nlp(text)"
   ]
  },
  {
   "cell_type": "code",
   "execution_count": 5,
   "metadata": {},
   "outputs": [
    {
     "data": {
      "text/plain": [
       "\n",
       "    En retrospectiva, pocos dudan ahora que la burbuja inmobiliaria"
      ]
     },
     "execution_count": 5,
     "metadata": {},
     "output_type": "execute_result"
    }
   ],
   "source": [
    "doc"
   ]
  },
  {
   "cell_type": "markdown",
   "metadata": {},
   "source": [
    "`spacy` nos permite tokenizar textos."
   ]
  },
  {
   "cell_type": "code",
   "execution_count": 6,
   "metadata": {},
   "outputs": [
    {
     "name": "stdout",
     "output_type": "stream",
     "text": [
      "\"\n",
      "    \"\n",
      "\"En\"\n",
      "\"retrospectiva\"\n",
      "\",\"\n",
      "\"pocos\"\n",
      "\"dudan\"\n",
      "\"ahora\"\n",
      "\"que\"\n",
      "\"la\"\n",
      "\"burbuja\"\n",
      "\"inmobiliaria\"\n",
      "\"\n",
      "\"\n"
     ]
    }
   ],
   "source": [
    "for token in doc:\n",
    "    print('\"' + token.text + '\"')"
   ]
  },
  {
   "cell_type": "markdown",
   "metadata": {},
   "source": [
    "Además, `spacy` mantiene índices que nos permiten localizar a un token dentro del texto sin procesar. Para recuperar estos índices, por ejemplo, escribimos"
   ]
  },
  {
   "cell_type": "code",
   "execution_count": 7,
   "metadata": {},
   "outputs": [
    {
     "name": "stdout",
     "output_type": "stream",
     "text": [
      "\"\n",
      "    \" 0\n",
      "\"En\" 5\n",
      "\"retrospectiva\" 8\n",
      "\",\" 21\n",
      "\"pocos\" 23\n",
      "\"dudan\" 29\n",
      "\"ahora\" 35\n",
      "\"que\" 41\n",
      "\"la\" 45\n",
      "\"burbuja\" 48\n",
      "\"inmobiliaria\" 56\n",
      "\"\n",
      "\" 68\n"
     ]
    }
   ],
   "source": [
    "for token in doc:\n",
    "    print('\"' + token.text + '\"', token.idx)"
   ]
  },
  {
   "cell_type": "markdown",
   "metadata": {},
   "source": [
    "`spacy` pone a nuestra disposición, un conjunto amplio de atributos para la clase `token`:"
   ]
  },
  {
   "cell_type": "code",
   "execution_count": 8,
   "metadata": {},
   "outputs": [
    {
     "name": "stdout",
     "output_type": "stream",
     "text": [
      "\n",
      "    \t0\t\n",
      "    \tFalse\tTrue\t\n",
      "    \tSPACE\t_SP\n",
      "En\t5\tEn\tFalse\tFalse\tXx\tADP\tADP__AdpType=Prep\n",
      "retrospectiva\t8\tretrospectivo\tFalse\tFalse\txxxx\tNOUN\tNOUN__Gender=Fem|Number=Sing\n",
      ",\t21\t,\tTrue\tFalse\t,\tPUNCT\tPUNCT__PunctType=Comm\n",
      "pocos\t23\tpoco\tFalse\tFalse\txxxx\tPRON\tPRON__Gender=Masc|Number=Plur|PronType=Ind\n",
      "dudan\t29\tdudar\tFalse\tFalse\txxxx\tVERB\tVERB__Mood=Ind|Number=Plur|Person=3|Tense=Pres|VerbForm=Fin\n",
      "ahora\t35\tahora\tFalse\tFalse\txxxx\tADV\tADV___\n",
      "que\t41\tque\tFalse\tFalse\txxx\tSCONJ\tSCONJ___\n",
      "la\t45\tlo\tFalse\tFalse\txx\tDET\tDET__Definite=Def|Gender=Fem|Number=Sing|PronType=Art\n",
      "burbuja\t48\tburbuja\tFalse\tFalse\txxxx\tNOUN\tNOUN__Gender=Fem|Number=Sing\n",
      "inmobiliaria\t56\tinmobiliario\tFalse\tFalse\txxxx\tADJ\tADJ__Gender=Fem|Number=Sing\n",
      "\n",
      "\t68\t\n",
      "\tFalse\tTrue\t\n",
      "\tSPACE\t_SP\n"
     ]
    }
   ],
   "source": [
    "for token in doc:\n",
    "    print(\"{0}\\t{1}\\t{2}\\t{3}\\t{4}\\t{5}\\t{6}\\t{7}\".format(\n",
    "        token.text,\n",
    "        token.idx,\n",
    "        token.lemma_,\n",
    "        token.is_punct,\n",
    "        token.is_space,\n",
    "        token.shape_,\n",
    "        token.pos_,\n",
    "        token.tag_\n",
    "    ))"
   ]
  },
  {
   "cell_type": "code",
   "execution_count": 9,
   "metadata": {},
   "outputs": [],
   "source": [
    "larger_text = \"\"\"\n",
    "    En retrospectiva, pocos dudan ahora que la burbuja inmobiliaria que provocó\n",
    "    la mayor parte del crecimiento reciente de la economía norteamericana fuera\n",
    "    a estallar o que la crisis financiera general y la ralentización de la\n",
    "    economía mundial fueran consecuencias inevitables de ello. Durante años, las\n",
    "    señales de aviso resultaban evidentes para todos aquellos que no se habían\n",
    "    dejado engatusar con la nueva química financiera de la gestión de la deuda\n",
    "    de alto riesgo y que estaban cegados, como la mayoría del mundo empresarial,\n",
    "    por los enormes beneficios especulativos.\n",
    "\"\"\"\n",
    "larger_doc = nlp(larger_text)"
   ]
  },
  {
   "cell_type": "code",
   "execution_count": 10,
   "metadata": {},
   "outputs": [
    {
     "name": "stdout",
     "output_type": "stream",
     "text": [
      "Oración 1: \n",
      "    En retrospectiva, pocos dudan ahora que la burbuja inmobiliaria que provocó\n",
      "    la mayor parte del crecimiento reciente de la economía norteamericana fuera\n",
      "    a estallar o que la crisis financiera general y la ralentización de la\n",
      "    economía mundial fueran consecuencias inevitables de ello. \n",
      "Oración 2: Durante años, las\n",
      "    señales de aviso resultaban evidentes para todos aquellos que no se habían\n",
      "    dejado engatusar con la nueva química financiera de la gestión de la deuda\n",
      "    de alto riesgo y que estaban cegados, como la mayoría del mundo empresarial,\n",
      "    por los enormes beneficios especulativos.\n",
      " \n"
     ]
    }
   ],
   "source": [
    "for idx, sent in enumerate(larger_doc.sents):\n",
    "    print('Oración {}: {} '.format(idx + 1, sent))"
   ]
  },
  {
   "cell_type": "code",
   "execution_count": 11,
   "metadata": {},
   "outputs": [
    {
     "name": "stdout",
     "output_type": "stream",
     "text": [
      "[('\\n    ', '_SP'), ('En', 'ADP__AdpType=Prep'), ('retrospectiva', 'NOUN__Gender=Fem|Number=Sing'), (',', 'PUNCT__PunctType=Comm'), ('pocos', 'PRON__Gender=Masc|Number=Plur|PronType=Ind'), ('dudan', 'VERB__Mood=Ind|Number=Plur|Person=3|Tense=Pres|VerbForm=Fin'), ('ahora', 'ADV___'), ('que', 'SCONJ___'), ('la', 'DET__Definite=Def|Gender=Fem|Number=Sing|PronType=Art'), ('burbuja', 'NOUN__Gender=Fem|Number=Sing'), ('inmobiliaria', 'ADJ__Gender=Fem|Number=Sing'), ('\\n', '_SP')]\n"
     ]
    }
   ],
   "source": [
    "print([(token.text, token.tag_) for token in doc])"
   ]
  },
  {
   "cell_type": "code",
   "execution_count": 12,
   "metadata": {},
   "outputs": [],
   "source": [
    "text_entities = \"El curso de NLP inicia a las 4:30 PM. El curso inició el lunes en Agexport.\"\n",
    "doc_entities = nlp(text_entities)"
   ]
  },
  {
   "cell_type": "code",
   "execution_count": 13,
   "metadata": {},
   "outputs": [
    {
     "name": "stdout",
     "output_type": "stream",
     "text": [
      "NLP LOC\n",
      "4:30 PM MISC\n",
      "El curso inició el lunes MISC\n",
      "Agexport LOC\n"
     ]
    }
   ],
   "source": [
    "for ent in doc_entities.ents:\n",
    "    print(ent.text, ent.label_)"
   ]
  },
  {
   "cell_type": "code",
   "execution_count": 14,
   "metadata": {},
   "outputs": [
    {
     "data": {
      "text/html": [
       "<div class=\"entities\" style=\"line-height: 2.5; direction: ltr\">El curso de \n",
       "<mark class=\"entity\" style=\"background: #ff9561; padding: 0.45em 0.6em; margin: 0 0.25em; line-height: 1; border-radius: 0.35em; box-decoration-break: clone; -webkit-box-decoration-break: clone\">\n",
       "    NLP\n",
       "    <span style=\"font-size: 0.8em; font-weight: bold; line-height: 1; border-radius: 0.35em; text-transform: uppercase; vertical-align: middle; margin-left: 0.5rem\">LOC</span>\n",
       "</mark>\n",
       " inicia a las \n",
       "<mark class=\"entity\" style=\"background: #ddd; padding: 0.45em 0.6em; margin: 0 0.25em; line-height: 1; border-radius: 0.35em; box-decoration-break: clone; -webkit-box-decoration-break: clone\">\n",
       "    4:30 PM\n",
       "    <span style=\"font-size: 0.8em; font-weight: bold; line-height: 1; border-radius: 0.35em; text-transform: uppercase; vertical-align: middle; margin-left: 0.5rem\">MISC</span>\n",
       "</mark>\n",
       ". \n",
       "<mark class=\"entity\" style=\"background: #ddd; padding: 0.45em 0.6em; margin: 0 0.25em; line-height: 1; border-radius: 0.35em; box-decoration-break: clone; -webkit-box-decoration-break: clone\">\n",
       "    El curso inició el lunes\n",
       "    <span style=\"font-size: 0.8em; font-weight: bold; line-height: 1; border-radius: 0.35em; text-transform: uppercase; vertical-align: middle; margin-left: 0.5rem\">MISC</span>\n",
       "</mark>\n",
       " en \n",
       "<mark class=\"entity\" style=\"background: #ff9561; padding: 0.45em 0.6em; margin: 0 0.25em; line-height: 1; border-radius: 0.35em; box-decoration-break: clone; -webkit-box-decoration-break: clone\">\n",
       "    Agexport\n",
       "    <span style=\"font-size: 0.8em; font-weight: bold; line-height: 1; border-radius: 0.35em; text-transform: uppercase; vertical-align: middle; margin-left: 0.5rem\">LOC</span>\n",
       "</mark>\n",
       ".</div>"
      ],
      "text/plain": [
       "<IPython.core.display.HTML object>"
      ]
     },
     "metadata": {},
     "output_type": "display_data"
    }
   ],
   "source": [
    "displacy.render(doc_entities, style='ent', jupyter=True)"
   ]
  },
  {
   "cell_type": "code",
   "execution_count": 15,
   "metadata": {},
   "outputs": [
    {
     "name": "stdout",
     "output_type": "stream",
     "text": [
      "El/DET__Definite=Def|Gender=Masc|Number=Sing|PronType=Art <--det-- curso/NOUN__Gender=Masc|Number=Sing\n",
      "curso/NOUN__Gender=Masc|Number=Sing <--nsubj-- inicia/VERB__Mood=Ind|Number=Sing|Person=3|Tense=Pres|VerbForm=Fin\n",
      "de/ADP__AdpType=Prep <--case-- NLP/PROPN___\n",
      "NLP/PROPN___ <--nmod-- curso/NOUN__Gender=Masc|Number=Sing\n",
      "inicia/VERB__Mood=Ind|Number=Sing|Person=3|Tense=Pres|VerbForm=Fin <--ROOT-- inicia/VERB__Mood=Ind|Number=Sing|Person=3|Tense=Pres|VerbForm=Fin\n",
      "a/ADP__AdpType=Prep <--case-- 4:30/NUM__NumForm=Digit\n",
      "las/DET__Definite=Def|Gender=Fem|Number=Plur|PronType=Art <--det-- 4:30/NUM__NumForm=Digit\n",
      "4:30/NUM__NumForm=Digit <--obj-- inicia/VERB__Mood=Ind|Number=Sing|Person=3|Tense=Pres|VerbForm=Fin\n",
      "PM/PROPN___ <--appos-- 4:30/NUM__NumForm=Digit\n",
      "./PUNCT__PunctType=Peri <--punct-- inicia/VERB__Mood=Ind|Number=Sing|Person=3|Tense=Pres|VerbForm=Fin\n",
      "El/DET__Definite=Def|Gender=Masc|Number=Sing|PronType=Art <--det-- curso/NOUN__Gender=Masc|Number=Sing\n",
      "curso/NOUN__Gender=Masc|Number=Sing <--nsubj-- inició/VERB__Mood=Ind|Number=Sing|Person=3|Tense=Past|VerbForm=Fin\n",
      "inició/VERB__Mood=Ind|Number=Sing|Person=3|Tense=Past|VerbForm=Fin <--ROOT-- inició/VERB__Mood=Ind|Number=Sing|Person=3|Tense=Past|VerbForm=Fin\n",
      "el/DET__Definite=Def|Gender=Masc|Number=Sing|PronType=Art <--det-- lunes/NOUN__AdvType=Tim\n",
      "lunes/NOUN__AdvType=Tim <--obl-- inició/VERB__Mood=Ind|Number=Sing|Person=3|Tense=Past|VerbForm=Fin\n",
      "en/ADP__AdpType=Prep <--case-- Agexport/PROPN___\n",
      "Agexport/PROPN___ <--obl-- inició/VERB__Mood=Ind|Number=Sing|Person=3|Tense=Past|VerbForm=Fin\n",
      "./PUNCT__PunctType=Peri <--punct-- inició/VERB__Mood=Ind|Number=Sing|Person=3|Tense=Past|VerbForm=Fin\n"
     ]
    }
   ],
   "source": [
    "for token in doc_entities:\n",
    "    print(\"{0}/{1} <--{2}-- {3}/{4}\".format(\n",
    "        token.text, token.tag_, token.dep_, token.head.text, token.head.tag_))"
   ]
  },
  {
   "cell_type": "code",
   "execution_count": 16,
   "metadata": {},
   "outputs": [
    {
     "data": {
      "text/html": [
       "<svg xmlns=\"http://www.w3.org/2000/svg\" xmlns:xlink=\"http://www.w3.org/1999/xlink\" xml:lang=\"es\" id=\"49dc6144d76c4eaf94bc925215734e1a-0\" class=\"displacy\" width=\"1490\" height=\"317.0\" direction=\"ltr\" style=\"max-width: none; height: 317.0px; color: #000000; background: #ffffff; font-family: Arial; direction: ltr\">\n",
       "<text class=\"displacy-token\" fill=\"currentColor\" text-anchor=\"middle\" y=\"227.0\">\n",
       "    <tspan class=\"displacy-word\" fill=\"currentColor\" x=\"50\">El</tspan>\n",
       "    <tspan class=\"displacy-tag\" dy=\"2em\" fill=\"currentColor\" x=\"50\">DET</tspan>\n",
       "</text>\n",
       "\n",
       "<text class=\"displacy-token\" fill=\"currentColor\" text-anchor=\"middle\" y=\"227.0\">\n",
       "    <tspan class=\"displacy-word\" fill=\"currentColor\" x=\"140\">curso</tspan>\n",
       "    <tspan class=\"displacy-tag\" dy=\"2em\" fill=\"currentColor\" x=\"140\">NOUN</tspan>\n",
       "</text>\n",
       "\n",
       "<text class=\"displacy-token\" fill=\"currentColor\" text-anchor=\"middle\" y=\"227.0\">\n",
       "    <tspan class=\"displacy-word\" fill=\"currentColor\" x=\"230\">de</tspan>\n",
       "    <tspan class=\"displacy-tag\" dy=\"2em\" fill=\"currentColor\" x=\"230\">ADP</tspan>\n",
       "</text>\n",
       "\n",
       "<text class=\"displacy-token\" fill=\"currentColor\" text-anchor=\"middle\" y=\"227.0\">\n",
       "    <tspan class=\"displacy-word\" fill=\"currentColor\" x=\"320\">NLP</tspan>\n",
       "    <tspan class=\"displacy-tag\" dy=\"2em\" fill=\"currentColor\" x=\"320\">PROPN</tspan>\n",
       "</text>\n",
       "\n",
       "<text class=\"displacy-token\" fill=\"currentColor\" text-anchor=\"middle\" y=\"227.0\">\n",
       "    <tspan class=\"displacy-word\" fill=\"currentColor\" x=\"410\">inicia</tspan>\n",
       "    <tspan class=\"displacy-tag\" dy=\"2em\" fill=\"currentColor\" x=\"410\">VERB</tspan>\n",
       "</text>\n",
       "\n",
       "<text class=\"displacy-token\" fill=\"currentColor\" text-anchor=\"middle\" y=\"227.0\">\n",
       "    <tspan class=\"displacy-word\" fill=\"currentColor\" x=\"500\">a</tspan>\n",
       "    <tspan class=\"displacy-tag\" dy=\"2em\" fill=\"currentColor\" x=\"500\">ADP</tspan>\n",
       "</text>\n",
       "\n",
       "<text class=\"displacy-token\" fill=\"currentColor\" text-anchor=\"middle\" y=\"227.0\">\n",
       "    <tspan class=\"displacy-word\" fill=\"currentColor\" x=\"590\">las</tspan>\n",
       "    <tspan class=\"displacy-tag\" dy=\"2em\" fill=\"currentColor\" x=\"590\">DET</tspan>\n",
       "</text>\n",
       "\n",
       "<text class=\"displacy-token\" fill=\"currentColor\" text-anchor=\"middle\" y=\"227.0\">\n",
       "    <tspan class=\"displacy-word\" fill=\"currentColor\" x=\"680\">4:30</tspan>\n",
       "    <tspan class=\"displacy-tag\" dy=\"2em\" fill=\"currentColor\" x=\"680\">NUM</tspan>\n",
       "</text>\n",
       "\n",
       "<text class=\"displacy-token\" fill=\"currentColor\" text-anchor=\"middle\" y=\"227.0\">\n",
       "    <tspan class=\"displacy-word\" fill=\"currentColor\" x=\"770\">PM.</tspan>\n",
       "    <tspan class=\"displacy-tag\" dy=\"2em\" fill=\"currentColor\" x=\"770\">PROPN</tspan>\n",
       "</text>\n",
       "\n",
       "<text class=\"displacy-token\" fill=\"currentColor\" text-anchor=\"middle\" y=\"227.0\">\n",
       "    <tspan class=\"displacy-word\" fill=\"currentColor\" x=\"860\">El</tspan>\n",
       "    <tspan class=\"displacy-tag\" dy=\"2em\" fill=\"currentColor\" x=\"860\">DET</tspan>\n",
       "</text>\n",
       "\n",
       "<text class=\"displacy-token\" fill=\"currentColor\" text-anchor=\"middle\" y=\"227.0\">\n",
       "    <tspan class=\"displacy-word\" fill=\"currentColor\" x=\"950\">curso</tspan>\n",
       "    <tspan class=\"displacy-tag\" dy=\"2em\" fill=\"currentColor\" x=\"950\">NOUN</tspan>\n",
       "</text>\n",
       "\n",
       "<text class=\"displacy-token\" fill=\"currentColor\" text-anchor=\"middle\" y=\"227.0\">\n",
       "    <tspan class=\"displacy-word\" fill=\"currentColor\" x=\"1040\">inició</tspan>\n",
       "    <tspan class=\"displacy-tag\" dy=\"2em\" fill=\"currentColor\" x=\"1040\">VERB</tspan>\n",
       "</text>\n",
       "\n",
       "<text class=\"displacy-token\" fill=\"currentColor\" text-anchor=\"middle\" y=\"227.0\">\n",
       "    <tspan class=\"displacy-word\" fill=\"currentColor\" x=\"1130\">el</tspan>\n",
       "    <tspan class=\"displacy-tag\" dy=\"2em\" fill=\"currentColor\" x=\"1130\">DET</tspan>\n",
       "</text>\n",
       "\n",
       "<text class=\"displacy-token\" fill=\"currentColor\" text-anchor=\"middle\" y=\"227.0\">\n",
       "    <tspan class=\"displacy-word\" fill=\"currentColor\" x=\"1220\">lunes</tspan>\n",
       "    <tspan class=\"displacy-tag\" dy=\"2em\" fill=\"currentColor\" x=\"1220\">NOUN</tspan>\n",
       "</text>\n",
       "\n",
       "<text class=\"displacy-token\" fill=\"currentColor\" text-anchor=\"middle\" y=\"227.0\">\n",
       "    <tspan class=\"displacy-word\" fill=\"currentColor\" x=\"1310\">en</tspan>\n",
       "    <tspan class=\"displacy-tag\" dy=\"2em\" fill=\"currentColor\" x=\"1310\">ADP</tspan>\n",
       "</text>\n",
       "\n",
       "<text class=\"displacy-token\" fill=\"currentColor\" text-anchor=\"middle\" y=\"227.0\">\n",
       "    <tspan class=\"displacy-word\" fill=\"currentColor\" x=\"1400\">Agexport.</tspan>\n",
       "    <tspan class=\"displacy-tag\" dy=\"2em\" fill=\"currentColor\" x=\"1400\">PROPN</tspan>\n",
       "</text>\n",
       "\n",
       "<g class=\"displacy-arrow\">\n",
       "    <path class=\"displacy-arc\" id=\"arrow-49dc6144d76c4eaf94bc925215734e1a-0-0\" stroke-width=\"2px\" d=\"M70,182.0 C70,137.0 125.0,137.0 125.0,182.0\" fill=\"none\" stroke=\"currentColor\"/>\n",
       "    <text dy=\"1.25em\" style=\"font-size: 0.8em; letter-spacing: 1px\">\n",
       "        <textPath xlink:href=\"#arrow-49dc6144d76c4eaf94bc925215734e1a-0-0\" class=\"displacy-label\" startOffset=\"50%\" side=\"left\" fill=\"currentColor\" text-anchor=\"middle\">det</textPath>\n",
       "    </text>\n",
       "    <path class=\"displacy-arrowhead\" d=\"M70,184.0 L62,172.0 78,172.0\" fill=\"currentColor\"/>\n",
       "</g>\n",
       "\n",
       "<g class=\"displacy-arrow\">\n",
       "    <path class=\"displacy-arc\" id=\"arrow-49dc6144d76c4eaf94bc925215734e1a-0-1\" stroke-width=\"2px\" d=\"M160,182.0 C160,47.0 405.0,47.0 405.0,182.0\" fill=\"none\" stroke=\"currentColor\"/>\n",
       "    <text dy=\"1.25em\" style=\"font-size: 0.8em; letter-spacing: 1px\">\n",
       "        <textPath xlink:href=\"#arrow-49dc6144d76c4eaf94bc925215734e1a-0-1\" class=\"displacy-label\" startOffset=\"50%\" side=\"left\" fill=\"currentColor\" text-anchor=\"middle\">nsubj</textPath>\n",
       "    </text>\n",
       "    <path class=\"displacy-arrowhead\" d=\"M160,184.0 L152,172.0 168,172.0\" fill=\"currentColor\"/>\n",
       "</g>\n",
       "\n",
       "<g class=\"displacy-arrow\">\n",
       "    <path class=\"displacy-arc\" id=\"arrow-49dc6144d76c4eaf94bc925215734e1a-0-2\" stroke-width=\"2px\" d=\"M250,182.0 C250,137.0 305.0,137.0 305.0,182.0\" fill=\"none\" stroke=\"currentColor\"/>\n",
       "    <text dy=\"1.25em\" style=\"font-size: 0.8em; letter-spacing: 1px\">\n",
       "        <textPath xlink:href=\"#arrow-49dc6144d76c4eaf94bc925215734e1a-0-2\" class=\"displacy-label\" startOffset=\"50%\" side=\"left\" fill=\"currentColor\" text-anchor=\"middle\">case</textPath>\n",
       "    </text>\n",
       "    <path class=\"displacy-arrowhead\" d=\"M250,184.0 L242,172.0 258,172.0\" fill=\"currentColor\"/>\n",
       "</g>\n",
       "\n",
       "<g class=\"displacy-arrow\">\n",
       "    <path class=\"displacy-arc\" id=\"arrow-49dc6144d76c4eaf94bc925215734e1a-0-3\" stroke-width=\"2px\" d=\"M160,182.0 C160,92.0 310.0,92.0 310.0,182.0\" fill=\"none\" stroke=\"currentColor\"/>\n",
       "    <text dy=\"1.25em\" style=\"font-size: 0.8em; letter-spacing: 1px\">\n",
       "        <textPath xlink:href=\"#arrow-49dc6144d76c4eaf94bc925215734e1a-0-3\" class=\"displacy-label\" startOffset=\"50%\" side=\"left\" fill=\"currentColor\" text-anchor=\"middle\">nmod</textPath>\n",
       "    </text>\n",
       "    <path class=\"displacy-arrowhead\" d=\"M310.0,184.0 L318.0,172.0 302.0,172.0\" fill=\"currentColor\"/>\n",
       "</g>\n",
       "\n",
       "<g class=\"displacy-arrow\">\n",
       "    <path class=\"displacy-arc\" id=\"arrow-49dc6144d76c4eaf94bc925215734e1a-0-4\" stroke-width=\"2px\" d=\"M520,182.0 C520,92.0 670.0,92.0 670.0,182.0\" fill=\"none\" stroke=\"currentColor\"/>\n",
       "    <text dy=\"1.25em\" style=\"font-size: 0.8em; letter-spacing: 1px\">\n",
       "        <textPath xlink:href=\"#arrow-49dc6144d76c4eaf94bc925215734e1a-0-4\" class=\"displacy-label\" startOffset=\"50%\" side=\"left\" fill=\"currentColor\" text-anchor=\"middle\">case</textPath>\n",
       "    </text>\n",
       "    <path class=\"displacy-arrowhead\" d=\"M520,184.0 L512,172.0 528,172.0\" fill=\"currentColor\"/>\n",
       "</g>\n",
       "\n",
       "<g class=\"displacy-arrow\">\n",
       "    <path class=\"displacy-arc\" id=\"arrow-49dc6144d76c4eaf94bc925215734e1a-0-5\" stroke-width=\"2px\" d=\"M610,182.0 C610,137.0 665.0,137.0 665.0,182.0\" fill=\"none\" stroke=\"currentColor\"/>\n",
       "    <text dy=\"1.25em\" style=\"font-size: 0.8em; letter-spacing: 1px\">\n",
       "        <textPath xlink:href=\"#arrow-49dc6144d76c4eaf94bc925215734e1a-0-5\" class=\"displacy-label\" startOffset=\"50%\" side=\"left\" fill=\"currentColor\" text-anchor=\"middle\">det</textPath>\n",
       "    </text>\n",
       "    <path class=\"displacy-arrowhead\" d=\"M610,184.0 L602,172.0 618,172.0\" fill=\"currentColor\"/>\n",
       "</g>\n",
       "\n",
       "<g class=\"displacy-arrow\">\n",
       "    <path class=\"displacy-arc\" id=\"arrow-49dc6144d76c4eaf94bc925215734e1a-0-6\" stroke-width=\"2px\" d=\"M430,182.0 C430,47.0 675.0,47.0 675.0,182.0\" fill=\"none\" stroke=\"currentColor\"/>\n",
       "    <text dy=\"1.25em\" style=\"font-size: 0.8em; letter-spacing: 1px\">\n",
       "        <textPath xlink:href=\"#arrow-49dc6144d76c4eaf94bc925215734e1a-0-6\" class=\"displacy-label\" startOffset=\"50%\" side=\"left\" fill=\"currentColor\" text-anchor=\"middle\">obj</textPath>\n",
       "    </text>\n",
       "    <path class=\"displacy-arrowhead\" d=\"M675.0,184.0 L683.0,172.0 667.0,172.0\" fill=\"currentColor\"/>\n",
       "</g>\n",
       "\n",
       "<g class=\"displacy-arrow\">\n",
       "    <path class=\"displacy-arc\" id=\"arrow-49dc6144d76c4eaf94bc925215734e1a-0-7\" stroke-width=\"2px\" d=\"M700,182.0 C700,137.0 755.0,137.0 755.0,182.0\" fill=\"none\" stroke=\"currentColor\"/>\n",
       "    <text dy=\"1.25em\" style=\"font-size: 0.8em; letter-spacing: 1px\">\n",
       "        <textPath xlink:href=\"#arrow-49dc6144d76c4eaf94bc925215734e1a-0-7\" class=\"displacy-label\" startOffset=\"50%\" side=\"left\" fill=\"currentColor\" text-anchor=\"middle\">appos</textPath>\n",
       "    </text>\n",
       "    <path class=\"displacy-arrowhead\" d=\"M755.0,184.0 L763.0,172.0 747.0,172.0\" fill=\"currentColor\"/>\n",
       "</g>\n",
       "\n",
       "<g class=\"displacy-arrow\">\n",
       "    <path class=\"displacy-arc\" id=\"arrow-49dc6144d76c4eaf94bc925215734e1a-0-8\" stroke-width=\"2px\" d=\"M880,182.0 C880,137.0 935.0,137.0 935.0,182.0\" fill=\"none\" stroke=\"currentColor\"/>\n",
       "    <text dy=\"1.25em\" style=\"font-size: 0.8em; letter-spacing: 1px\">\n",
       "        <textPath xlink:href=\"#arrow-49dc6144d76c4eaf94bc925215734e1a-0-8\" class=\"displacy-label\" startOffset=\"50%\" side=\"left\" fill=\"currentColor\" text-anchor=\"middle\">det</textPath>\n",
       "    </text>\n",
       "    <path class=\"displacy-arrowhead\" d=\"M880,184.0 L872,172.0 888,172.0\" fill=\"currentColor\"/>\n",
       "</g>\n",
       "\n",
       "<g class=\"displacy-arrow\">\n",
       "    <path class=\"displacy-arc\" id=\"arrow-49dc6144d76c4eaf94bc925215734e1a-0-9\" stroke-width=\"2px\" d=\"M970,182.0 C970,137.0 1025.0,137.0 1025.0,182.0\" fill=\"none\" stroke=\"currentColor\"/>\n",
       "    <text dy=\"1.25em\" style=\"font-size: 0.8em; letter-spacing: 1px\">\n",
       "        <textPath xlink:href=\"#arrow-49dc6144d76c4eaf94bc925215734e1a-0-9\" class=\"displacy-label\" startOffset=\"50%\" side=\"left\" fill=\"currentColor\" text-anchor=\"middle\">nsubj</textPath>\n",
       "    </text>\n",
       "    <path class=\"displacy-arrowhead\" d=\"M970,184.0 L962,172.0 978,172.0\" fill=\"currentColor\"/>\n",
       "</g>\n",
       "\n",
       "<g class=\"displacy-arrow\">\n",
       "    <path class=\"displacy-arc\" id=\"arrow-49dc6144d76c4eaf94bc925215734e1a-0-10\" stroke-width=\"2px\" d=\"M1150,182.0 C1150,137.0 1205.0,137.0 1205.0,182.0\" fill=\"none\" stroke=\"currentColor\"/>\n",
       "    <text dy=\"1.25em\" style=\"font-size: 0.8em; letter-spacing: 1px\">\n",
       "        <textPath xlink:href=\"#arrow-49dc6144d76c4eaf94bc925215734e1a-0-10\" class=\"displacy-label\" startOffset=\"50%\" side=\"left\" fill=\"currentColor\" text-anchor=\"middle\">det</textPath>\n",
       "    </text>\n",
       "    <path class=\"displacy-arrowhead\" d=\"M1150,184.0 L1142,172.0 1158,172.0\" fill=\"currentColor\"/>\n",
       "</g>\n",
       "\n",
       "<g class=\"displacy-arrow\">\n",
       "    <path class=\"displacy-arc\" id=\"arrow-49dc6144d76c4eaf94bc925215734e1a-0-11\" stroke-width=\"2px\" d=\"M1060,182.0 C1060,92.0 1210.0,92.0 1210.0,182.0\" fill=\"none\" stroke=\"currentColor\"/>\n",
       "    <text dy=\"1.25em\" style=\"font-size: 0.8em; letter-spacing: 1px\">\n",
       "        <textPath xlink:href=\"#arrow-49dc6144d76c4eaf94bc925215734e1a-0-11\" class=\"displacy-label\" startOffset=\"50%\" side=\"left\" fill=\"currentColor\" text-anchor=\"middle\">obl</textPath>\n",
       "    </text>\n",
       "    <path class=\"displacy-arrowhead\" d=\"M1210.0,184.0 L1218.0,172.0 1202.0,172.0\" fill=\"currentColor\"/>\n",
       "</g>\n",
       "\n",
       "<g class=\"displacy-arrow\">\n",
       "    <path class=\"displacy-arc\" id=\"arrow-49dc6144d76c4eaf94bc925215734e1a-0-12\" stroke-width=\"2px\" d=\"M1330,182.0 C1330,137.0 1385.0,137.0 1385.0,182.0\" fill=\"none\" stroke=\"currentColor\"/>\n",
       "    <text dy=\"1.25em\" style=\"font-size: 0.8em; letter-spacing: 1px\">\n",
       "        <textPath xlink:href=\"#arrow-49dc6144d76c4eaf94bc925215734e1a-0-12\" class=\"displacy-label\" startOffset=\"50%\" side=\"left\" fill=\"currentColor\" text-anchor=\"middle\">case</textPath>\n",
       "    </text>\n",
       "    <path class=\"displacy-arrowhead\" d=\"M1330,184.0 L1322,172.0 1338,172.0\" fill=\"currentColor\"/>\n",
       "</g>\n",
       "\n",
       "<g class=\"displacy-arrow\">\n",
       "    <path class=\"displacy-arc\" id=\"arrow-49dc6144d76c4eaf94bc925215734e1a-0-13\" stroke-width=\"2px\" d=\"M1060,182.0 C1060,2.0 1400.0,2.0 1400.0,182.0\" fill=\"none\" stroke=\"currentColor\"/>\n",
       "    <text dy=\"1.25em\" style=\"font-size: 0.8em; letter-spacing: 1px\">\n",
       "        <textPath xlink:href=\"#arrow-49dc6144d76c4eaf94bc925215734e1a-0-13\" class=\"displacy-label\" startOffset=\"50%\" side=\"left\" fill=\"currentColor\" text-anchor=\"middle\">obl</textPath>\n",
       "    </text>\n",
       "    <path class=\"displacy-arrowhead\" d=\"M1400.0,184.0 L1408.0,172.0 1392.0,172.0\" fill=\"currentColor\"/>\n",
       "</g>\n",
       "</svg>"
      ],
      "text/plain": [
       "<IPython.core.display.HTML object>"
      ]
     },
     "metadata": {},
     "output_type": "display_data"
    }
   ],
   "source": [
    "displacy.render(doc_entities, style='dep', jupyter=True, options={'distance': 90})"
   ]
  },
  {
   "cell_type": "code",
   "execution_count": 17,
   "metadata": {},
   "outputs": [],
   "source": [
    "nlp_ext = spacy.load('es_core_news_md')"
   ]
  },
  {
   "cell_type": "code",
   "execution_count": 18,
   "metadata": {},
   "outputs": [
    {
     "name": "stdout",
     "output_type": "stream",
     "text": [
      "[ 8.100400e-02 -5.251210e-01  1.089990e+00 -1.051320e-01  2.592700e-01\n",
      " -3.259680e-01  2.227220e-01  7.271700e-02  2.172000e-03  2.712761e+00\n",
      " -3.285130e-01  5.928910e-01 -8.835600e-02 -7.602560e-01  4.379040e-01\n",
      "  3.975390e-01  5.665630e-01  4.113700e-01  7.719420e-01  5.179310e-01\n",
      "  1.323176e+00  1.340035e+00 -2.227220e-01 -4.068760e-01  7.449730e-01\n",
      " -4.973730e-01 -1.167305e+00  5.878820e-01  3.739340e-01 -2.348630e-01\n",
      "  2.070588e+00 -1.194960e-01 -1.527140e+00 -5.800300e-02 -7.687620e-01\n",
      " -7.471960e-01  1.205082e+00 -5.270130e-01  6.346600e-01  1.204500e-01\n",
      " -6.663400e-01 -2.460930e-01  2.837790e-01  1.206170e-01  1.065563e+00\n",
      " -3.668670e-01  6.986800e-02 -1.886280e+00  9.259120e-01 -2.880230e-01]\n"
     ]
    }
   ],
   "source": [
    "print(nlp_ext.vocab['curso'].vector)"
   ]
  },
  {
   "cell_type": "code",
   "execution_count": 23,
   "metadata": {},
   "outputs": [
    {
     "name": "stdout",
     "output_type": "stream",
     "text": [
      "0.79893434 0.5199257\n",
      "0.74901104 0.3627539\n"
     ]
    }
   ],
   "source": [
    "perro = nlp_ext.vocab['perro']\n",
    "manzana = nlp_ext.vocab['manzana']\n",
    "fruta = nlp_ext.vocab['fruta']\n",
    "animal = nlp_ext.vocab['animal']\n",
    "banano = nlp_ext.vocab['platano']\n",
    "mono = nlp_ext.vocab['mono']\n",
    "gato = nlp_ext.vocab['gato']\n",
    " \n",
    "print(perro.similarity(animal), perro.similarity(fruta)) # 0.6618534 0.23552845\n",
    "print(manzana.similarity(fruta), manzana.similarity(animal)) # 0.67148364 0.2427285"
   ]
  },
  {
   "cell_type": "code",
   "execution_count": 24,
   "metadata": {},
   "outputs": [
    {
     "name": "stdout",
     "output_type": "stream",
     "text": [
      "0.89080924\n"
     ]
    }
   ],
   "source": [
    "print(perro.similarity(gato))"
   ]
  },
  {
   "cell_type": "code",
   "execution_count": 105,
   "metadata": {},
   "outputs": [
    {
     "data": {
      "text/plain": [
       "Counter({'\\n    ': 8,\n",
       "         'En': 1,\n",
       "         'retrospectiva': 1,\n",
       "         'pocos': 1,\n",
       "         'dudan': 1,\n",
       "         'ahora': 1,\n",
       "         'que': 5,\n",
       "         'la': 10,\n",
       "         'burbuja': 1,\n",
       "         'inmobiliaria': 1,\n",
       "         'provocó': 1,\n",
       "         'mayor': 1,\n",
       "         'parte': 1,\n",
       "         'del': 2,\n",
       "         'crecimiento': 1,\n",
       "         'reciente': 1,\n",
       "         'de': 7,\n",
       "         'economía': 2,\n",
       "         'norteamericana': 1,\n",
       "         'fuera': 1,\n",
       "         'a': 1,\n",
       "         'estallar': 1,\n",
       "         'o': 1,\n",
       "         'crisis': 1,\n",
       "         'financiera': 2,\n",
       "         'general': 1,\n",
       "         'y': 2,\n",
       "         'ralentización': 1,\n",
       "         'mundial': 1,\n",
       "         'fueran': 1,\n",
       "         'consecuencias': 1,\n",
       "         'inevitables': 1,\n",
       "         'ello': 1,\n",
       "         'Durante': 1,\n",
       "         'años': 1,\n",
       "         'las': 1,\n",
       "         'señales': 1,\n",
       "         'aviso': 1,\n",
       "         'resultaban': 1,\n",
       "         'evidentes': 1,\n",
       "         'para': 1,\n",
       "         'todos': 1,\n",
       "         'aquellos': 1,\n",
       "         'no': 1,\n",
       "         'se': 1,\n",
       "         'habían': 1,\n",
       "         'dejado': 1,\n",
       "         'engatusar': 1,\n",
       "         'con': 1,\n",
       "         'nueva': 1,\n",
       "         'química': 1,\n",
       "         'gestión': 1,\n",
       "         'deuda': 1,\n",
       "         'alto': 1,\n",
       "         'riesgo': 1,\n",
       "         'estaban': 1,\n",
       "         'cegados': 1,\n",
       "         'como': 1,\n",
       "         'mayoría': 1,\n",
       "         'mundo': 1,\n",
       "         'empresarial': 1,\n",
       "         'por': 1,\n",
       "         'los': 1,\n",
       "         'enormes': 1,\n",
       "         'beneficios': 1,\n",
       "         'especulativos': 1,\n",
       "         '\\n': 1})"
      ]
     },
     "execution_count": 105,
     "metadata": {},
     "output_type": "execute_result"
    }
   ],
   "source": [
    "Counter([token.text for token in larger_doc if not token.is_punct])"
   ]
  },
  {
   "cell_type": "code",
   "execution_count": 25,
   "metadata": {},
   "outputs": [
    {
     "data": {
      "text/plain": [
       "Counter({'\\n    ': 8,\n",
       "         'retrospectivo': 1,\n",
       "         'dudar': 1,\n",
       "         'burbuja': 1,\n",
       "         'inmobiliario': 1,\n",
       "         'provocar': 1,\n",
       "         'crecimiento': 1,\n",
       "         'recentar': 1,\n",
       "         'economía': 2,\n",
       "         'norteamericano': 1,\n",
       "         'a': 1,\n",
       "         'estallar': 1,\n",
       "         'o': 1,\n",
       "         'crisis': 1,\n",
       "         'financiero': 2,\n",
       "         'y': 2,\n",
       "         'ralentización': 1,\n",
       "         'mundial': 1,\n",
       "         'ser': 1,\n",
       "         'consecuencia': 1,\n",
       "         'inevitable': 1,\n",
       "         'año': 1,\n",
       "         'señalar': 1,\n",
       "         'avisar': 1,\n",
       "         'resultar': 1,\n",
       "         'evidente': 1,\n",
       "         'dejar': 1,\n",
       "         'engatusar': 1,\n",
       "         'químico': 1,\n",
       "         'gestión': 1,\n",
       "         'deuda': 1,\n",
       "         'alto': 1,\n",
       "         'riesgo': 1,\n",
       "         'cegar': 1,\n",
       "         'mayoría': 1,\n",
       "         'mundo': 1,\n",
       "         'empresarial': 1,\n",
       "         'enorme': 1,\n",
       "         'beneficio': 1,\n",
       "         'especulativo': 1,\n",
       "         '\\n': 1})"
      ]
     },
     "execution_count": 25,
     "metadata": {},
     "output_type": "execute_result"
    }
   ],
   "source": [
    "Counter([token.lemma_ for token in larger_doc if (not token.is_punct and not token.is_stop)])"
   ]
  },
  {
   "cell_type": "code",
   "execution_count": 69,
   "metadata": {},
   "outputs": [],
   "source": [
    "positive_text = ''\n",
    "negative_text = ''"
   ]
  },
  {
   "cell_type": "code",
   "execution_count": 70,
   "metadata": {},
   "outputs": [],
   "source": [
    "with jsonlines.open('booking_reviews_antigua.jl') as reader:\n",
    "    for obj in reader:\n",
    "        if 'positive_content' in obj:\n",
    "            positive_text = positive_text + obj['positive_content']\n",
    "        if 'negative_content' in obj:\n",
    "            negative_text = negative_text + obj['negative_content']"
   ]
  },
  {
   "cell_type": "code",
   "execution_count": 71,
   "metadata": {},
   "outputs": [],
   "source": [
    "positive_text = positive_text.strip()[99999]"
   ]
  },
  {
   "cell_type": "code",
   "execution_count": 52,
   "metadata": {},
   "outputs": [],
   "source": [
    "negative_text = negative_text.strip()"
   ]
  },
  {
   "cell_type": "code",
   "execution_count": 53,
   "metadata": {},
   "outputs": [],
   "source": [
    "nlp_en = spacy.load('en')"
   ]
  },
  {
   "cell_type": "code",
   "execution_count": 72,
   "metadata": {},
   "outputs": [],
   "source": [
    "positive_doc = nlp_en(positive_text)"
   ]
  },
  {
   "cell_type": "code",
   "execution_count": 56,
   "metadata": {},
   "outputs": [],
   "source": [
    "negative_doc = nlp_en(negative_text)"
   ]
  },
  {
   "cell_type": "code",
   "execution_count": 65,
   "metadata": {},
   "outputs": [
    {
     "data": {
      "text/plain": [
       "[('room', 2460),\n",
       " ('night', 659),\n",
       " ('hotel', 658),\n",
       " ('bathroom', 531),\n",
       " ('bed', 516),\n",
       " ('bit', 515),\n",
       " ('little', 501),\n",
       " ('shower', 473),\n",
       " ('stay', 472),\n",
       " ('breakfast', 461),\n",
       " ('staff', 449),\n",
       " ('like', 427),\n",
       " ('not', 411),\n",
       " ('small', 404),\n",
       " ('place', 400),\n",
       " ('water', 399),\n",
       " ('time', 332),\n",
       " ('need', 311),\n",
       " ('window', 309),\n",
       " ('price', 308),\n",
       " ('noisy', 307),\n",
       " ('door', 301),\n",
       " ('good', 292),\n",
       " ('noise', 289),\n",
       " ('hot', 285),\n",
       " ('day', 273),\n",
       " ('sleep', 272),\n",
       " ('hear', 271),\n",
       " ('people', 264),\n",
       " ('pay', 260),\n",
       " ('work', 258),\n",
       " ('walk', 256),\n",
       " ('loud', 250),\n",
       " ('nice', 245),\n",
       " ('area', 238),\n",
       " ('bar', 238),\n",
       " ('ask', 232),\n",
       " ('hostel', 230),\n",
       " ('clean', 226),\n",
       " ('morning', 225),\n",
       " ('come', 213),\n",
       " ('get', 212),\n",
       " ('charge', 211),\n",
       " ('guest', 209),\n",
       " ('leave', 200),\n",
       " ('outside', 198),\n",
       " ('check', 197),\n",
       " ('open', 192),\n",
       " ('great', 190),\n",
       " ('think', 188),\n",
       " ('floor', 187),\n",
       " ('light', 185),\n",
       " ('tell', 184),\n",
       " ('Antigua', 182),\n",
       " ('2', 181),\n",
       " ('wall', 180),\n",
       " ('thing', 179),\n",
       " ('go', 176),\n",
       " ('book', 170),\n",
       " ('lot', 169),\n",
       " ('toilet', 168),\n",
       " ('feel', 168),\n",
       " ('find', 167),\n",
       " ('close', 163),\n",
       " ('bad', 161),\n",
       " ('big', 161),\n",
       " ('want', 160),\n",
       " ('kitchen', 156),\n",
       " ('problem', 153),\n",
       " ('far', 152),\n",
       " ('private', 150),\n",
       " ('dorm', 150),\n",
       " ('use', 149),\n",
       " ('look', 147),\n",
       " ('service', 144),\n",
       " ('dark', 144),\n",
       " ('early', 142),\n",
       " ('well', 142),\n",
       " ('dirty', 141),\n",
       " ('say', 141),\n",
       " ('location', 140),\n",
       " ('street', 138),\n",
       " ('cold', 137),\n",
       " ('coffee', 136),\n",
       " ('include', 134),\n",
       " ('towel', 134),\n",
       " ('fan', 132),\n",
       " ('restaurant', 131),\n",
       " ('parking', 126),\n",
       " ('thin', 126),\n",
       " ('offer', 125),\n",
       " ('hard', 125),\n",
       " ('old', 125),\n",
       " ('give', 121),\n",
       " ('3', 119),\n",
       " ('expect', 114),\n",
       " ('smell', 114),\n",
       " ('music', 114),\n",
       " ('right', 113),\n",
       " ('comfortable', 109)]"
      ]
     },
     "execution_count": 65,
     "metadata": {},
     "output_type": "execute_result"
    }
   ],
   "source": [
    "Counter([token.lemma_ for token in negative_doc \n",
    "         if (not token.is_punct and not token.is_stop and not token.is_space)]).most_common(100)"
   ]
  },
  {
   "cell_type": "code",
   "execution_count": null,
   "metadata": {},
   "outputs": [],
   "source": []
  }
 ],
 "metadata": {
  "kernelspec": {
   "display_name": "Python 3",
   "language": "python",
   "name": "python3"
  },
  "language_info": {
   "codemirror_mode": {
    "name": "ipython",
    "version": 3
   },
   "file_extension": ".py",
   "mimetype": "text/x-python",
   "name": "python",
   "nbconvert_exporter": "python",
   "pygments_lexer": "ipython3",
   "version": "3.7.3"
  }
 },
 "nbformat": 4,
 "nbformat_minor": 2
}
